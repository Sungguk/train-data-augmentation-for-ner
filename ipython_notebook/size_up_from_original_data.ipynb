{
 "cells": [
  {
   "cell_type": "code",
   "execution_count": 26,
   "metadata": {
    "collapsed": false,
    "scrolled": false
   },
   "outputs": [
    {
     "data": {
      "text/plain": [
       "14987"
      ]
     },
     "execution_count": 26,
     "metadata": {},
     "output_type": "execute_result"
    }
   ],
   "source": [
    "from data_handling_for_heuristic import *\n",
    "import random as rn\n",
    "from datetime import datetime\n",
    "\n",
    "# 주의: eng.train과 train.txt의 B, I가 일치되지 않는다. train.txt 파일을 사용하자.\n",
    "#read_path = 'data/conll2003/eng.train' #\n",
    "read_path = 'train.txt'\n",
    "raw_list, label_list = load_conll2003(read_path)\n",
    "len(raw_list)"
   ]
  },
  {
   "cell_type": "code",
   "execution_count": 3,
   "metadata": {
    "collapsed": false,
    "scrolled": false
   },
   "outputs": [
    {
     "data": {
      "text/plain": [
       "'Swansea 1 Lincoln 2'"
      ]
     },
     "execution_count": 3,
     "metadata": {},
     "output_type": "execute_result"
    }
   ],
   "source": [
    "raw_list[14986]"
   ]
  },
  {
   "cell_type": "markdown",
   "metadata": {},
   "source": [
    "### Count the number of sents that only have MISC"
   ]
  },
  {
   "cell_type": "code",
   "execution_count": null,
   "metadata": {
    "collapsed": false,
    "scrolled": true
   },
   "outputs": [],
   "source": [
    "# cnt = 0\n",
    "# for sent in label_list:\n",
    "#     splited_sent = sent.split()\n",
    "#     if 'B-MISC' in splited_sent:\n",
    "#         if not 'B-PER' in splited_sent:\n",
    "#             if not 'B-ORG' in splited_sent:\n",
    "#                 if not 'B-LOC' in splited_sent:\n",
    "#                     cnt += 1\n",
    "#                     #print(sent)\n",
    "# print(cnt)\n",
    "\n",
    "# cnt = 0\n",
    "# for sent in label_list:\n",
    "#     splited_sent = sent.split()\n",
    "#     tkn = False\n",
    "#     for token in splited_sent:\n",
    "#         if token != 'O': # 엔티티가 하나라도 있으면.\n",
    "#             tkn = True\n",
    "#     if tkn == False: # 엔티티가 하나라도 없었다면.\n",
    "#         cnt += 1\n",
    "# print(cnt)"
   ]
  },
  {
   "cell_type": "markdown",
   "metadata": {},
   "source": [
    "1. delete: 1049, insert: 4853, move: 382, replace: 4917  = **TOTAL : 11201**\n",
    "2. 거의 2배 (MISC빼고, 엔티티가 하나도 없는거 빼고) = **TOTAL : 14987 - 930 - 3855 = 10202**"
   ]
  },
  {
   "cell_type": "markdown",
   "metadata": {},
   "source": [
    "# 1. 단어 base로 Copy&Paste"
   ]
  },
  {
   "cell_type": "code",
   "execution_count": 29,
   "metadata": {
    "collapsed": false
   },
   "outputs": [
    {
     "name": "stdout",
     "output_type": "stream",
     "text": [
      "req_n_word: 1138554\n",
      "total_n_word: 1138589\n",
      "total_n_sent: 84060\n"
     ]
    }
   ],
   "source": [
    "req_n_word = 1138554 # 1190772 - 52218\n",
    "\n",
    "new_sent_raw_list = []\n",
    "new_sent_label_list = []\n",
    "new_sent_raw_list += raw_list\n",
    "new_sent_label_list += label_list\n",
    "sent_idx = 0\n",
    "total_n_word = 0\n",
    "\n",
    "# 원본 total word 개수: 204570\n",
    "for sent in raw_list:\n",
    "    total_n_word += len(sent.split())\n",
    "\n",
    "while(True):\n",
    "\n",
    "    new_sent_raw_list.append(raw_list[sent_idx])\n",
    "    new_sent_label_list.append(label_list[sent_idx])    \n",
    "    \n",
    "    total_n_word += len(raw_list[sent_idx].split())\n",
    "    sent_idx += 1\n",
    "    \n",
    "    if sent_idx == len(raw_list)-1:\n",
    "        sent_idx = 0\n",
    "    \n",
    "    if total_n_word >= req_n_word:\n",
    "        print('req_n_word:', req_n_word)\n",
    "        print('total_n_word:', total_n_word)\n",
    "        print('total_n_sent:', len(new_sent_raw_list))\n",
    "        break\n",
    "\n",
    "\n",
    "##################        \n",
    "\"\"\" 저장하기 \"\"\"\n",
    "##################\n",
    "w_filename = ''\n",
    "w_filename += '(wordbase)'\n",
    "w_filename += datetime.now().strftime('%Y-%m-%d')\n",
    "w_filename += ('_' + str(total_n_word))\n",
    "path_write = 'gen_data/copy/' + w_filename + '.txt'\n",
    "#path_write = 'test.txt'\n",
    "\n",
    "with open(path_write, 'w', encoding='UTF-8') as txt:\n",
    "    for i, _ in enumerate(new_sent_raw_list):\n",
    "        splited_sent = new_sent_raw_list[i].split()\n",
    "        splited_label = new_sent_label_list[i].split()\n",
    "        for j, token in enumerate(splited_sent):\n",
    "            txt.write(splited_sent[j]+' '+'NNP'+' '+'B-NP'+' '+splited_label[j])\n",
    "            txt.write('\\n')\n",
    "        txt.write('\\n')"
   ]
  },
  {
   "cell_type": "code",
   "execution_count": null,
   "metadata": {
    "collapsed": true
   },
   "outputs": [],
   "source": []
  },
  {
   "cell_type": "code",
   "execution_count": null,
   "metadata": {
    "collapsed": true
   },
   "outputs": [],
   "source": []
  },
  {
   "cell_type": "markdown",
   "metadata": {},
   "source": [
    "# 2. 문장base로 Copy&Paste"
   ]
  },
  {
   "cell_type": "code",
   "execution_count": 7,
   "metadata": {
    "collapsed": false
   },
   "outputs": [],
   "source": [
    "new_sent_raw_list = []\n",
    "new_sent_label_list = []\n",
    "\n",
    "\n",
    "num_of_sent = 10202\n",
    "\n",
    "for i in range(num_of_sent):\n",
    "    gen_num = (rn.randrange(1,len(raw_list)))\n",
    "    new_sent_raw_list.append(raw_list[gen_num])\n",
    "    new_sent_label_list.append(label_list[gen_num])\n",
    "    \n",
    "#total_sent_raw_list = raw_list + new_sent_raw_list\n",
    "#total_sent_label_list = label_list + new_sent_label_list\n",
    "\n",
    "#len(total_sent_raw_list)"
   ]
  },
  {
   "cell_type": "code",
   "execution_count": 8,
   "metadata": {
    "collapsed": false
   },
   "outputs": [
    {
     "data": {
      "text/plain": [
       "10202"
      ]
     },
     "execution_count": 8,
     "metadata": {},
     "output_type": "execute_result"
    }
   ],
   "source": [
    "total_sent_raw_list = new_sent_raw_list #+ raw_list  \n",
    "total_sent_label_list = new_sent_label_list #+ label_list \n",
    "len(total_sent_raw_list)"
   ]
  },
  {
   "cell_type": "markdown",
   "metadata": {},
   "source": [
    "## Store new sentence"
   ]
  },
  {
   "cell_type": "code",
   "execution_count": 9,
   "metadata": {
    "collapsed": false
   },
   "outputs": [],
   "source": [
    "path_write = 'warehouse_data_data/ran(10202).txt'\n",
    "#path_write = 'test.txt'\n",
    "\n",
    "with open(path_write, 'w', encoding='UTF-8') as txt:\n",
    "    \n",
    "    for i, _ in enumerate(total_sent_raw_list):\n",
    "        splited_sent = total_sent_raw_list[i].split()\n",
    "        splited_label = total_sent_label_list[i].split()\n",
    "        for j, token in enumerate(splited_sent):\n",
    "            txt.write(splited_sent[j]+' '+'NNP'+' '+'B-NP'+' '+splited_label[j])\n",
    "            txt.write('\\n')\n",
    "        txt.write('\\n')"
   ]
  },
  {
   "cell_type": "code",
   "execution_count": null,
   "metadata": {
    "collapsed": true
   },
   "outputs": [],
   "source": []
  },
  {
   "cell_type": "code",
   "execution_count": null,
   "metadata": {
    "collapsed": true
   },
   "outputs": [],
   "source": []
  },
  {
   "cell_type": "code",
   "execution_count": 30,
   "metadata": {
    "collapsed": true
   },
   "outputs": [],
   "source": [
    "a = ['a','','','b']\n",
    "a.remove('')"
   ]
  },
  {
   "cell_type": "code",
   "execution_count": 31,
   "metadata": {
    "collapsed": false
   },
   "outputs": [
    {
     "data": {
      "text/plain": [
       "['a', '', 'b']"
      ]
     },
     "execution_count": 31,
     "metadata": {},
     "output_type": "execute_result"
    }
   ],
   "source": [
    "a"
   ]
  },
  {
   "cell_type": "code",
   "execution_count": 33,
   "metadata": {
    "collapsed": false
   },
   "outputs": [
    {
     "data": {
      "text/plain": [
       "[1, 2, 3, 3, 4]"
      ]
     },
     "execution_count": 33,
     "metadata": {},
     "output_type": "execute_result"
    }
   ],
   "source": [
    "x = [1,2,3,'','','',3,4]\n",
    "list(filter(lambda a: a != '', x))"
   ]
  },
  {
   "cell_type": "code",
   "execution_count": null,
   "metadata": {
    "collapsed": true
   },
   "outputs": [],
   "source": []
  },
  {
   "cell_type": "code",
   "execution_count": null,
   "metadata": {
    "collapsed": true
   },
   "outputs": [],
   "source": []
  },
  {
   "cell_type": "code",
   "execution_count": null,
   "metadata": {
    "collapsed": true
   },
   "outputs": [],
   "source": []
  }
 ],
 "metadata": {
  "anaconda-cloud": {},
  "kernelspec": {
   "display_name": "Python [conda root]",
   "language": "python",
   "name": "conda-root-py"
  },
  "language_info": {
   "codemirror_mode": {
    "name": "ipython",
    "version": 3
   },
   "file_extension": ".py",
   "mimetype": "text/x-python",
   "name": "python",
   "nbconvert_exporter": "python",
   "pygments_lexer": "ipython3",
   "version": "3.5.2"
  }
 },
 "nbformat": 4,
 "nbformat_minor": 1
}
